{
 "cells": [
  {
   "cell_type": "markdown",
   "id": "59e2058a",
   "metadata": {},
   "source": [
    "## Data Preparation"
   ]
  },
  {
   "cell_type": "code",
   "execution_count": 115,
   "id": "60d400db",
   "metadata": {},
   "outputs": [],
   "source": [
    "import yfinance as yf\n",
    "import pandas as pd\n",
    "import numpy as np\n",
    "from datetime import date\n",
    "from datetime import datetime, timedelta\n",
    "import math\n",
    "import matplotlib.pyplot as plt\n",
    "\n",
    "import pickle\n",
    "import tensorflow as tf\n",
    "from tensorflow import keras\n",
    "from tensorflow.keras import layers\n",
    "\n",
    "from keras.models import load_model, Model\n",
    "from keras.layers import Dense, Dropout, Activation, Input, LSTM, Reshape, Dense, SimpleRNN, GRU, LSTM, Dropout\n",
    "from tensorflow.keras.optimizers import SGD\n",
    "\n",
    "from keras.utils import np_utils\n",
    "from sklearn.preprocessing import MinMaxScaler\n",
    "from sklearn.metrics import mean_squared_error"
   ]
  },
  {
   "cell_type": "code",
   "execution_count": 2,
   "id": "014f554d",
   "metadata": {},
   "outputs": [
    {
     "name": "stdout",
     "output_type": "stream",
     "text": [
      "[*********************100%***********************]  1 of 1 completed\n"
     ]
    }
   ],
   "source": [
    "df = yf.download(\"PFE\", start=\"2013-01-01\", end=date.today())"
   ]
  },
  {
   "cell_type": "code",
   "execution_count": 3,
   "id": "746115a9",
   "metadata": {},
   "outputs": [
    {
     "data": {
      "text/html": [
       "<div>\n",
       "<style scoped>\n",
       "    .dataframe tbody tr th:only-of-type {\n",
       "        vertical-align: middle;\n",
       "    }\n",
       "\n",
       "    .dataframe tbody tr th {\n",
       "        vertical-align: top;\n",
       "    }\n",
       "\n",
       "    .dataframe thead th {\n",
       "        text-align: right;\n",
       "    }\n",
       "</style>\n",
       "<table border=\"1\" class=\"dataframe\">\n",
       "  <thead>\n",
       "    <tr style=\"text-align: right;\">\n",
       "      <th></th>\n",
       "      <th>Open</th>\n",
       "      <th>High</th>\n",
       "      <th>Low</th>\n",
       "      <th>Close</th>\n",
       "      <th>Adj Close</th>\n",
       "      <th>Volume</th>\n",
       "    </tr>\n",
       "    <tr>\n",
       "      <th>Date</th>\n",
       "      <th></th>\n",
       "      <th></th>\n",
       "      <th></th>\n",
       "      <th></th>\n",
       "      <th></th>\n",
       "      <th></th>\n",
       "    </tr>\n",
       "  </thead>\n",
       "  <tbody>\n",
       "    <tr>\n",
       "      <th>2013-01-02</th>\n",
       "      <td>24.222012</td>\n",
       "      <td>24.582542</td>\n",
       "      <td>24.032257</td>\n",
       "      <td>24.582542</td>\n",
       "      <td>17.744638</td>\n",
       "      <td>35332399</td>\n",
       "    </tr>\n",
       "    <tr>\n",
       "      <th>2013-01-03</th>\n",
       "      <td>24.648956</td>\n",
       "      <td>24.658443</td>\n",
       "      <td>24.250475</td>\n",
       "      <td>24.525618</td>\n",
       "      <td>17.703543</td>\n",
       "      <td>35580300</td>\n",
       "    </tr>\n",
       "    <tr>\n",
       "      <th>2013-01-04</th>\n",
       "      <td>24.525618</td>\n",
       "      <td>24.658443</td>\n",
       "      <td>24.440228</td>\n",
       "      <td>24.629980</td>\n",
       "      <td>17.778883</td>\n",
       "      <td>30149565</td>\n",
       "    </tr>\n",
       "    <tr>\n",
       "      <th>2013-01-07</th>\n",
       "      <td>24.582542</td>\n",
       "      <td>24.715370</td>\n",
       "      <td>24.449715</td>\n",
       "      <td>24.648956</td>\n",
       "      <td>17.792576</td>\n",
       "      <td>27172015</td>\n",
       "    </tr>\n",
       "    <tr>\n",
       "      <th>2013-01-08</th>\n",
       "      <td>24.667933</td>\n",
       "      <td>24.905123</td>\n",
       "      <td>24.648956</td>\n",
       "      <td>24.686907</td>\n",
       "      <td>17.819975</td>\n",
       "      <td>32734078</td>\n",
       "    </tr>\n",
       "    <tr>\n",
       "      <th>...</th>\n",
       "      <td>...</td>\n",
       "      <td>...</td>\n",
       "      <td>...</td>\n",
       "      <td>...</td>\n",
       "      <td>...</td>\n",
       "      <td>...</td>\n",
       "    </tr>\n",
       "    <tr>\n",
       "      <th>2021-11-22</th>\n",
       "      <td>50.950001</td>\n",
       "      <td>51.470001</td>\n",
       "      <td>50.380001</td>\n",
       "      <td>51.200001</td>\n",
       "      <td>51.200001</td>\n",
       "      <td>27287900</td>\n",
       "    </tr>\n",
       "    <tr>\n",
       "      <th>2021-11-23</th>\n",
       "      <td>50.580002</td>\n",
       "      <td>51.450001</td>\n",
       "      <td>50.299999</td>\n",
       "      <td>51.080002</td>\n",
       "      <td>51.080002</td>\n",
       "      <td>24946200</td>\n",
       "    </tr>\n",
       "    <tr>\n",
       "      <th>2021-11-24</th>\n",
       "      <td>51.180000</td>\n",
       "      <td>51.330002</td>\n",
       "      <td>50.709999</td>\n",
       "      <td>50.889999</td>\n",
       "      <td>50.889999</td>\n",
       "      <td>18556800</td>\n",
       "    </tr>\n",
       "    <tr>\n",
       "      <th>2021-11-26</th>\n",
       "      <td>54.040001</td>\n",
       "      <td>54.939999</td>\n",
       "      <td>53.250000</td>\n",
       "      <td>54.000000</td>\n",
       "      <td>54.000000</td>\n",
       "      <td>66561300</td>\n",
       "    </tr>\n",
       "    <tr>\n",
       "      <th>2021-11-29</th>\n",
       "      <td>55.150002</td>\n",
       "      <td>55.700001</td>\n",
       "      <td>52.110001</td>\n",
       "      <td>52.400002</td>\n",
       "      <td>52.400002</td>\n",
       "      <td>72584600</td>\n",
       "    </tr>\n",
       "  </tbody>\n",
       "</table>\n",
       "<p>2244 rows × 6 columns</p>\n",
       "</div>"
      ],
      "text/plain": [
       "                 Open       High        Low      Close  Adj Close    Volume\n",
       "Date                                                                       \n",
       "2013-01-02  24.222012  24.582542  24.032257  24.582542  17.744638  35332399\n",
       "2013-01-03  24.648956  24.658443  24.250475  24.525618  17.703543  35580300\n",
       "2013-01-04  24.525618  24.658443  24.440228  24.629980  17.778883  30149565\n",
       "2013-01-07  24.582542  24.715370  24.449715  24.648956  17.792576  27172015\n",
       "2013-01-08  24.667933  24.905123  24.648956  24.686907  17.819975  32734078\n",
       "...               ...        ...        ...        ...        ...       ...\n",
       "2021-11-22  50.950001  51.470001  50.380001  51.200001  51.200001  27287900\n",
       "2021-11-23  50.580002  51.450001  50.299999  51.080002  51.080002  24946200\n",
       "2021-11-24  51.180000  51.330002  50.709999  50.889999  50.889999  18556800\n",
       "2021-11-26  54.040001  54.939999  53.250000  54.000000  54.000000  66561300\n",
       "2021-11-29  55.150002  55.700001  52.110001  52.400002  52.400002  72584600\n",
       "\n",
       "[2244 rows x 6 columns]"
      ]
     },
     "execution_count": 3,
     "metadata": {},
     "output_type": "execute_result"
    }
   ],
   "source": [
    "df"
   ]
  },
  {
   "cell_type": "code",
   "execution_count": 26,
   "id": "e49079e2",
   "metadata": {},
   "outputs": [],
   "source": [
    "close = df[\"Close\"]"
   ]
  },
  {
   "cell_type": "code",
   "execution_count": 52,
   "id": "739f5e3f",
   "metadata": {},
   "outputs": [],
   "source": [
    "# create training and test set\n",
    "train = close[:'2018'].values\n",
    "test  = close['2019':].values\n",
    "\n",
    "# scale the data\n",
    "sc = MinMaxScaler(feature_range=(0,1))\n",
    "train_scaled = sc.fit_transform(np.array(train).reshape(-1,1))\n",
    "test_scaled = sc.fit_transform(np.array(test).reshape(-1,1))"
   ]
  },
  {
   "cell_type": "code",
   "execution_count": null,
   "id": "677537b5",
   "metadata": {},
   "outputs": [],
   "source": []
  },
  {
   "cell_type": "code",
   "execution_count": 53,
   "id": "8e012914",
   "metadata": {},
   "outputs": [],
   "source": [
    "def prepare_data(time_steps):\n",
    "    '''\n",
    "    input: \n",
    "      data: dataframe with dates and price data\n",
    "    output:\n",
    "      X_train, y_train: data from 2013/1/1-2018/12/31\n",
    "      X_test:  data from 2019 -\n",
    "      sc:      insantiated MinMaxScaler object fit to the training data\n",
    "    '''\n",
    "\n",
    "    # create training data of s samples and t time steps\n",
    "    X_train = []\n",
    "    y_train = []\n",
    "    for i in range(time_steps, len(train) - 1): \n",
    "        X_train.append(train_scaled[i - time_steps: i, 0])\n",
    "        y_train.append(train_scaled[i: i + 1, 0])\n",
    "    X_train, y_train = np.array(X_train), np.array(y_train)\n",
    "\n",
    "    # Reshaping X_train for efficient modelling\n",
    "    X_train = np.reshape(X_train, \n",
    "                        (X_train.shape[0],X_train.shape[1], 1) )\n",
    "\n",
    "    test_inputs = close.values[len(close) - len(test) - time_steps:].reshape(-1, 1)\n",
    "    test_inputs_scaled = sc.transform(test_inputs)\n",
    "    \n",
    "    # Preparing X_test\n",
    "    X_test = []\n",
    "    # 5 - (734 + 5 - 1)\n",
    "    for i in range(time_steps, len(test) + time_steps):\n",
    "        X_test.append(test_inputs_scaled[i - time_steps: i, 0])\n",
    "        \n",
    "    X_test = np.array(X_test)\n",
    "    X_test = np.reshape(X_test, (X_test.shape[0], X_test.shape[1], 1) )\n",
    "\n",
    "    return X_train, y_train , X_test, sc"
   ]
  },
  {
   "cell_type": "code",
   "execution_count": null,
   "id": "4c39a1db",
   "metadata": {},
   "outputs": [],
   "source": []
  },
  {
   "cell_type": "code",
   "execution_count": 54,
   "id": "08966dde",
   "metadata": {},
   "outputs": [],
   "source": [
    "# We use a 5 past-day window\n",
    "X_train, y_train, X_test, sc = prepare_data(5)"
   ]
  },
  {
   "cell_type": "markdown",
   "id": "3b743cd2",
   "metadata": {},
   "source": [
    "## Model Construction"
   ]
  },
  {
   "cell_type": "code",
   "execution_count": 55,
   "id": "53b14ad2",
   "metadata": {},
   "outputs": [],
   "source": [
    "model = keras.Sequential()\n",
    "\n",
    "model.add(LSTM(units=50, return_sequences=True, input_shape=(X_train.shape[1],1), activation='tanh'))\n",
    "#my_LSTM_model.add(LSTM(units=50, return_sequences=True, input_shape=(X_train.shape[1],1), activation='tanh'))\n",
    "#my_LSTM_model.add(LSTM(units=50, return_sequences=True, input_shape=(X_train.shape[1],1), activation='tanh'))\n",
    "model.add(LSTM(units=50, activation='tanh'))\n",
    "model.add(Dropout(0.4))\n",
    "model.add(Dense(units=1))"
   ]
  },
  {
   "cell_type": "code",
   "execution_count": 56,
   "id": "684a3fe9",
   "metadata": {},
   "outputs": [],
   "source": [
    "model.compile(optimizer=SGD(learning_rate=0.01, \n",
    "                            decay=1e-7, \n",
    "                            momentum=0.9, \n",
    "                            nesterov=False),\n",
    "                loss='mean_squared_error')"
   ]
  },
  {
   "cell_type": "code",
   "execution_count": 57,
   "id": "74daf466",
   "metadata": {},
   "outputs": [
    {
     "name": "stdout",
     "output_type": "stream",
     "text": [
      "Model: \"sequential_2\"\n",
      "_________________________________________________________________\n",
      " Layer (type)                Output Shape              Param #   \n",
      "=================================================================\n",
      " lstm_4 (LSTM)               (None, 5, 50)             10400     \n",
      "                                                                 \n",
      " lstm_5 (LSTM)               (None, 50)                20200     \n",
      "                                                                 \n",
      " dropout_2 (Dropout)         (None, 50)                0         \n",
      "                                                                 \n",
      " dense_2 (Dense)             (None, 1)                 51        \n",
      "                                                                 \n",
      "=================================================================\n",
      "Total params: 30,651\n",
      "Trainable params: 30,651\n",
      "Non-trainable params: 0\n",
      "_________________________________________________________________\n"
     ]
    }
   ],
   "source": [
    "model.summary()"
   ]
  },
  {
   "cell_type": "code",
   "execution_count": 58,
   "id": "288d74c1",
   "metadata": {},
   "outputs": [
    {
     "name": "stdout",
     "output_type": "stream",
     "text": [
      "Epoch 1/50\n",
      "11/11 [==============================] - 3s 9ms/step - loss: 0.0849\n",
      "Epoch 2/50\n",
      "11/11 [==============================] - 0s 8ms/step - loss: 0.0577\n",
      "Epoch 3/50\n",
      "11/11 [==============================] - 0s 9ms/step - loss: 0.0340\n",
      "Epoch 4/50\n",
      "11/11 [==============================] - 0s 9ms/step - loss: 0.0312\n",
      "Epoch 5/50\n",
      "11/11 [==============================] - 0s 6ms/step - loss: 0.0284\n",
      "Epoch 6/50\n",
      "11/11 [==============================] - 0s 7ms/step - loss: 0.0273\n",
      "Epoch 7/50\n",
      "11/11 [==============================] - 0s 6ms/step - loss: 0.0255\n",
      "Epoch 8/50\n",
      "11/11 [==============================] - 0s 6ms/step - loss: 0.0242\n",
      "Epoch 9/50\n",
      "11/11 [==============================] - 0s 7ms/step - loss: 0.0234\n",
      "Epoch 10/50\n",
      "11/11 [==============================] - 0s 6ms/step - loss: 0.0219\n",
      "Epoch 11/50\n",
      "11/11 [==============================] - 0s 6ms/step - loss: 0.0208\n",
      "Epoch 12/50\n",
      "11/11 [==============================] - 0s 6ms/step - loss: 0.0193\n",
      "Epoch 13/50\n",
      "11/11 [==============================] - 0s 6ms/step - loss: 0.0187\n",
      "Epoch 14/50\n",
      "11/11 [==============================] - 0s 6ms/step - loss: 0.0169\n",
      "Epoch 15/50\n",
      "11/11 [==============================] - 0s 6ms/step - loss: 0.0155\n",
      "Epoch 16/50\n",
      "11/11 [==============================] - 0s 6ms/step - loss: 0.0138\n",
      "Epoch 17/50\n",
      "11/11 [==============================] - 0s 7ms/step - loss: 0.0128\n",
      "Epoch 18/50\n",
      "11/11 [==============================] - 0s 7ms/step - loss: 0.0118\n",
      "Epoch 19/50\n",
      "11/11 [==============================] - 0s 7ms/step - loss: 0.0108\n",
      "Epoch 20/50\n",
      "11/11 [==============================] - 0s 6ms/step - loss: 0.0094\n",
      "Epoch 21/50\n",
      "11/11 [==============================] - 0s 6ms/step - loss: 0.0086\n",
      "Epoch 22/50\n",
      "11/11 [==============================] - 0s 6ms/step - loss: 0.0073\n",
      "Epoch 23/50\n",
      "11/11 [==============================] - 0s 9ms/step - loss: 0.0061\n",
      "Epoch 24/50\n",
      "11/11 [==============================] - 0s 8ms/step - loss: 0.0056\n",
      "Epoch 25/50\n",
      "11/11 [==============================] - 0s 7ms/step - loss: 0.0047\n",
      "Epoch 26/50\n",
      "11/11 [==============================] - 0s 6ms/step - loss: 0.0043\n",
      "Epoch 27/50\n",
      "11/11 [==============================] - 0s 6ms/step - loss: 0.0039\n",
      "Epoch 28/50\n",
      "11/11 [==============================] - 0s 6ms/step - loss: 0.0032\n",
      "Epoch 29/50\n",
      "11/11 [==============================] - 0s 6ms/step - loss: 0.0030\n",
      "Epoch 30/50\n",
      "11/11 [==============================] - 0s 7ms/step - loss: 0.0028\n",
      "Epoch 31/50\n",
      "11/11 [==============================] - 0s 6ms/step - loss: 0.0026\n",
      "Epoch 32/50\n",
      "11/11 [==============================] - 0s 6ms/step - loss: 0.0023\n",
      "Epoch 33/50\n",
      "11/11 [==============================] - 0s 8ms/step - loss: 0.0024\n",
      "Epoch 34/50\n",
      "11/11 [==============================] - 0s 7ms/step - loss: 0.0021\n",
      "Epoch 35/50\n",
      "11/11 [==============================] - 0s 8ms/step - loss: 0.0021\n",
      "Epoch 36/50\n",
      "11/11 [==============================] - 0s 9ms/step - loss: 0.0020\n",
      "Epoch 37/50\n",
      "11/11 [==============================] - 0s 7ms/step - loss: 0.0020\n",
      "Epoch 38/50\n",
      "11/11 [==============================] - 0s 6ms/step - loss: 0.0022\n",
      "Epoch 39/50\n",
      "11/11 [==============================] - 0s 6ms/step - loss: 0.0020\n",
      "Epoch 40/50\n",
      "11/11 [==============================] - 0s 7ms/step - loss: 0.0019\n",
      "Epoch 41/50\n",
      "11/11 [==============================] - 0s 6ms/step - loss: 0.0019\n",
      "Epoch 42/50\n",
      "11/11 [==============================] - 0s 6ms/step - loss: 0.0021\n",
      "Epoch 43/50\n",
      "11/11 [==============================] - 0s 7ms/step - loss: 0.0022\n",
      "Epoch 44/50\n",
      "11/11 [==============================] - 0s 6ms/step - loss: 0.0018\n",
      "Epoch 45/50\n",
      "11/11 [==============================] - 0s 7ms/step - loss: 0.0021\n",
      "Epoch 46/50\n",
      "11/11 [==============================] - 0s 7ms/step - loss: 0.0020\n",
      "Epoch 47/50\n",
      "11/11 [==============================] - 0s 7ms/step - loss: 0.0022\n",
      "Epoch 48/50\n",
      "11/11 [==============================] - 0s 8ms/step - loss: 0.0021\n",
      "Epoch 49/50\n",
      "11/11 [==============================] - 0s 8ms/step - loss: 0.0017\n",
      "Epoch 50/50\n",
      "11/11 [==============================] - 0s 7ms/step - loss: 0.0017\n"
     ]
    },
    {
     "data": {
      "text/plain": [
       "<keras.callbacks.History at 0x14ca6efd0>"
      ]
     },
     "execution_count": 58,
     "metadata": {},
     "output_type": "execute_result"
    }
   ],
   "source": [
    "model.fit(X_train, y_train, epochs=50, batch_size=150, verbose=1)"
   ]
  },
  {
   "cell_type": "code",
   "execution_count": 59,
   "id": "450d83cd",
   "metadata": {},
   "outputs": [],
   "source": [
    "train_predict = sc.inverse_transform(model.predict(X_train))\n",
    "test_predict = sc.inverse_transform(model.predict(X_test))"
   ]
  },
  {
   "cell_type": "code",
   "execution_count": 60,
   "id": "c2ef452b",
   "metadata": {},
   "outputs": [
    {
     "data": {
      "text/plain": [
       "36.661155884079776"
      ]
     },
     "execution_count": 60,
     "metadata": {},
     "output_type": "execute_result"
    }
   ],
   "source": [
    "math.sqrt(mean_squared_error(y_train, train_predict))"
   ]
  },
  {
   "cell_type": "code",
   "execution_count": 68,
   "id": "247d3c5a",
   "metadata": {},
   "outputs": [],
   "source": [
    "def plot_graphs(X_test, model_predict):\n",
    "    X = df[\"2019\":].index[:-1]\n",
    "    plt.plot(X, sc.inverse_transform(X_test[:-1, 0]), label='True')\n",
    "    plt.plot(X, model_predict, label='Prediction')\n",
    "    \n",
    "    plt.legend()"
   ]
  },
  {
   "cell_type": "code",
   "execution_count": 69,
   "id": "9d9a54d6",
   "metadata": {},
   "outputs": [
    {
     "data": {
      "image/png": "[encoded data removed]",
      "text/plain": [
       "<Figure size 432x288 with 1 Axes>"
      ]
     },
     "metadata": {
      "needs_background": "light"
     },
     "output_type": "display_data"
    }
   ],
   "source": [
    "plot_graphs(X_test, test_predict[:-1])"
   ]
  },
  {
   "cell_type": "markdown",
   "id": "6b522b78",
   "metadata": {},
   "source": [
    "## Predicton"
   ]
  },
  {
   "cell_type": "code",
   "execution_count": 70,
   "id": "a7f068a8",
   "metadata": {},
   "outputs": [
    {
     "data": {
      "text/plain": [
       "(1504, 5, 1)"
      ]
     },
     "execution_count": 70,
     "metadata": {},
     "output_type": "execute_result"
    }
   ],
   "source": [
    "X_train.shape"
   ]
  },
  {
   "cell_type": "code",
   "execution_count": 71,
   "id": "f28a3ea5",
   "metadata": {},
   "outputs": [
    {
     "data": {
      "text/plain": [
       "734"
      ]
     },
     "execution_count": 71,
     "metadata": {},
     "output_type": "execute_result"
    }
   ],
   "source": [
    "len(test)"
   ]
  },
  {
   "cell_type": "code",
   "execution_count": 82,
   "id": "bb13e703",
   "metadata": {},
   "outputs": [
    {
     "name": "stdout",
     "output_type": "stream",
     "text": [
      "[[0.88689184]]\n"
     ]
    }
   ],
   "source": [
    "x_input = test_scaled[729:].reshape(1,-1)\n",
    "x_input = x_input.reshape((1,5,1))\n",
    "yhat = model.predict(x_input, verbose=0)\n",
    "print(yhat)"
   ]
  },
  {
   "cell_type": "code",
   "execution_count": 83,
   "id": "05869d7a",
   "metadata": {},
   "outputs": [
    {
     "name": "stdout",
     "output_type": "stream",
     "text": [
      "1 day input [0.89173017 0.88468512 1.         0.94067409 0.88689184]\n",
      "1 day output [[0.8919283]]\n",
      "2 day input [0.88468512 1.         0.94067409 0.88689184 0.89192832]\n",
      "2 day output [[0.8950148]]\n",
      "3 day input [1.         0.94067409 0.88689184 0.89192832 0.89501482]\n",
      "3 day output [[0.8977242]]\n",
      "4 day input [0.94067409 0.88689184 0.89192832 0.89501482 0.89772421]\n",
      "4 day output [[0.875485]]\n",
      "5 day input [0.88689184 0.89192832 0.89501482 0.89772421 0.875485  ]\n",
      "5 day output [[0.8637671]]\n",
      "6 day input [0.89192832 0.89501482 0.89772421 0.875485   0.86376709]\n",
      "6 day output [[0.8612008]]\n",
      "7 day input [0.89501482 0.89772421 0.875485   0.86376709 0.86120081]\n",
      "7 day output [[0.8558558]]\n",
      "8 day input [0.89772421 0.875485   0.86376709 0.86120081 0.85585582]\n",
      "8 day output [[0.8483782]]\n",
      "9 day input [0.875485   0.86376709 0.86120081 0.85585582 0.84837818]\n",
      "9 day output [[0.8388815]]\n",
      "10 day input [0.86376709 0.86120081 0.85585582 0.84837818 0.83888149]\n",
      "10 day output [[0.8324939]]\n",
      "11 day input [0.86120081 0.85585582 0.84837818 0.83888149 0.8324939 ]\n",
      "11 day output [[0.82704914]]\n",
      "12 day input [0.85585582 0.84837818 0.83888149 0.8324939  0.82704914]\n",
      "12 day output [[0.8207376]]\n",
      "13 day input [0.84837818 0.83888149 0.8324939  0.82704914 0.8207376 ]\n",
      "13 day output [[0.81420153]]\n",
      "14 day input [0.83888149 0.8324939  0.82704914 0.8207376  0.81420153]\n",
      "14 day output [[0.80790764]]\n",
      "15 day input [0.8324939  0.82704914 0.8207376  0.81420153 0.80790764]\n",
      "15 day output [[0.80230093]]\n",
      "16 day input [0.82704914 0.8207376  0.81420153 0.80790764 0.80230093]\n",
      "16 day output [[0.7967705]]\n",
      "17 day input [0.8207376  0.81420153 0.80790764 0.80230093 0.79677051]\n",
      "17 day output [[0.7911639]]\n",
      "18 day input [0.81420153 0.80790764 0.80230093 0.79677051 0.79116392]\n",
      "18 day output [[0.7856958]]\n",
      "19 day input [0.80790764 0.80230093 0.79677051 0.79116392 0.78569579]\n",
      "19 day output [[0.7804402]]\n",
      "20 day input [0.80230093 0.79677051 0.79116392 0.78569579 0.78044021]\n",
      "20 day output [[0.7753755]]\n",
      "21 day input [0.79677051 0.79116392 0.78569579 0.78044021 0.77537549]\n",
      "21 day output [[0.77038807]]\n",
      "22 day input [0.79116392 0.78569579 0.78044021 0.77537549 0.77038807]\n",
      "22 day output [[0.76549125]]\n",
      "23 day input [0.78569579 0.78044021 0.77537549 0.77038807 0.76549125]\n",
      "23 day output [[0.760727]]\n",
      "24 day input [0.78044021 0.77537549 0.77038807 0.76549125 0.76072699]\n",
      "24 day output [[0.756091]]\n",
      "25 day input [0.77537549 0.77038807 0.76549125 0.76072699 0.756091  ]\n",
      "25 day output [[0.7515634]]\n",
      "26 day input [0.77038807 0.76549125 0.76072699 0.756091   0.75156337]\n",
      "26 day output [[0.74712825]]\n",
      "27 day input [0.76549125 0.76072699 0.756091   0.75156337 0.74712825]\n",
      "27 day output [[0.742792]]\n",
      "28 day input [0.76072699 0.756091   0.75156337 0.74712825 0.74279201]\n",
      "28 day output [[0.7385574]]\n",
      "29 day input [0.756091   0.75156337 0.74712825 0.74279201 0.7385574 ]\n",
      "29 day output [[0.73441756]]\n",
      "30 day input [0.75156337 0.74712825 0.74279201 0.7385574  0.73441756]\n",
      "30 day output [[0.73036605]]\n",
      "31 day input [0.74712825 0.74279201 0.7385574  0.73441756 0.73036605]\n",
      "31 day output [[0.7263996]]\n",
      "32 day input [0.74279201 0.7385574  0.73441756 0.73036605 0.7263996 ]\n",
      "32 day output [[0.7225177]]\n",
      "33 day input [0.7385574  0.73441756 0.73036605 0.7263996  0.72251773]\n",
      "33 day output [[0.718718]]\n",
      "34 day input [0.73441756 0.73036605 0.7263996  0.72251773 0.71871799]\n",
      "34 day output [[0.71499646]]\n",
      "35 day input [0.73036605 0.7263996  0.72251773 0.71871799 0.71499646]\n",
      "35 day output [[0.71135056]]\n",
      "36 day input [0.7263996  0.72251773 0.71871799 0.71499646 0.71135056]\n",
      "36 day output [[0.70777786]]\n",
      "37 day input [0.72251773 0.71871799 0.71499646 0.71135056 0.70777786]\n",
      "37 day output [[0.7042767]]\n",
      "38 day input [0.71871799 0.71499646 0.71135056 0.70777786 0.70427668]\n",
      "38 day output [[0.70084447]]\n",
      "39 day input [0.71499646 0.71135056 0.70777786 0.70427668 0.70084447]\n",
      "39 day output [[0.69747907]]\n",
      "40 day input [0.71135056 0.70777786 0.70427668 0.70084447 0.69747907]\n",
      "40 day output [[0.6941784]]\n",
      "41 day input [0.70777786 0.70427668 0.70084447 0.69747907 0.6941784 ]\n",
      "41 day output [[0.6909406]]\n",
      "42 day input [0.70427668 0.70084447 0.69747907 0.6941784  0.69094062]\n",
      "42 day output [[0.68776387]]\n",
      "43 day input [0.70084447 0.69747907 0.6941784  0.69094062 0.68776387]\n",
      "43 day output [[0.6846465]]\n",
      "44 day input [0.69747907 0.6941784  0.69094062 0.68776387 0.68464649]\n",
      "44 day output [[0.68158656]]\n",
      "45 day input [0.6941784  0.69094062 0.68776387 0.68464649 0.68158656]\n",
      "45 day output [[0.67858267]]\n",
      "46 day input [0.69094062 0.68776387 0.68464649 0.68158656 0.67858267]\n",
      "46 day output [[0.675633]]\n",
      "47 day input [0.68776387 0.68464649 0.68158656 0.67858267 0.67563301]\n",
      "47 day output [[0.6727363]]\n",
      "48 day input [0.68464649 0.68158656 0.67858267 0.67563301 0.67273629]\n",
      "48 day output [[0.6698909]]\n",
      "49 day input [0.68158656 0.67858267 0.67563301 0.67273629 0.66989088]\n",
      "49 day output [[0.6670956]]\n",
      "50 day input [0.67858267 0.67563301 0.67273629 0.66989088 0.6670956 ]\n",
      "50 day output [[0.6643489]]\n",
      "51 day input [0.67563301 0.67273629 0.66989088 0.6670956  0.6643489 ]\n",
      "51 day output [[0.6616497]]\n",
      "52 day input [0.67273629 0.66989088 0.6670956  0.6643489  0.6616497 ]\n",
      "52 day output [[0.65899646]]\n",
      "53 day input [0.66989088 0.6670956  0.6643489  0.6616497  0.65899646]\n",
      "53 day output [[0.6563884]]\n",
      "54 day input [0.6670956  0.6643489  0.6616497  0.65899646 0.6563884 ]\n",
      "54 day output [[0.65382415]]\n",
      "55 day input [0.6643489  0.6616497  0.65899646 0.6563884  0.65382415]\n",
      "55 day output [[0.6513025]]\n",
      "56 day input [0.6616497  0.65899646 0.6563884  0.65382415 0.65130252]\n",
      "56 day output [[0.6488226]]\n",
      "57 day input [0.65899646 0.6563884  0.65382415 0.65130252 0.64882261]\n",
      "57 day output [[0.64638335]]\n",
      "58 day input [0.6563884  0.65382415 0.65130252 0.64882261 0.64638335]\n",
      "58 day output [[0.6439836]]\n",
      "59 day input [0.65382415 0.65130252 0.64882261 0.64638335 0.6439836 ]\n",
      "59 day output [[0.64162266]]\n",
      "60 day input [0.65130252 0.64882261 0.64638335 0.6439836  0.64162266]\n",
      "60 day output [[0.6392993]]\n",
      "61 day input [0.64882261 0.64638335 0.6439836  0.64162266 0.63929927]\n",
      "61 day output [[0.63701296]]\n",
      "62 day input [0.64638335 0.6439836  0.64162266 0.63929927 0.63701296]\n",
      "62 day output [[0.63476264]]\n",
      "63 day input [0.6439836  0.64162266 0.63929927 0.63701296 0.63476264]\n",
      "63 day output [[0.63254726]]\n",
      "64 day input [0.64162266 0.63929927 0.63701296 0.63476264 0.63254726]\n",
      "64 day output [[0.6303664]]\n",
      "65 day input [0.63929927 0.63701296 0.63476264 0.63254726 0.63036638]\n",
      "65 day output [[0.62821907]]\n",
      "66 day input [0.63701296 0.63476264 0.63254726 0.63036638 0.62821907]\n",
      "66 day output [[0.6261045]]\n",
      "67 day input [0.63476264 0.63254726 0.63036638 0.62821907 0.62610447]\n",
      "67 day output [[0.6240221]]\n",
      "68 day input [0.63254726 0.63036638 0.62821907 0.62610447 0.62402213]\n",
      "68 day output [[0.621971]]\n",
      "69 day input [0.63036638 0.62821907 0.62610447 0.62402213 0.62197101]\n",
      "69 day output [[0.61995065]]\n",
      "70 day input [0.62821907 0.62610447 0.62402213 0.62197101 0.61995065]\n",
      "70 day output [[0.61796033]]\n",
      "71 day input [0.62610447 0.62402213 0.62197101 0.61995065 0.61796033]\n",
      "71 day output [[0.61599934]]\n",
      "72 day input [0.62402213 0.62197101 0.61995065 0.61796033 0.61599934]\n",
      "72 day output [[0.6140672]]\n",
      "73 day input [0.62197101 0.61995065 0.61796033 0.61599934 0.6140672 ]\n",
      "73 day output [[0.61216307]]\n",
      "74 day input [0.61995065 0.61796033 0.61599934 0.6140672  0.61216307]\n",
      "74 day output [[0.6102866]]\n",
      "75 day input [0.61796033 0.61599934 0.6140672  0.61216307 0.61028659]\n",
      "75 day output [[0.6084371]]\n",
      "76 day input [0.61599934 0.6140672  0.61216307 0.61028659 0.60843712]\n",
      "76 day output [[0.6066141]]\n",
      "77 day input [0.6140672  0.61216307 0.61028659 0.60843712 0.60661411]\n",
      "77 day output [[0.6048169]]\n",
      "78 day input [0.61216307 0.61028659 0.60843712 0.60661411 0.60481691]\n",
      "78 day output [[0.60304517]]\n",
      "79 day input [0.61028659 0.60843712 0.60661411 0.60481691 0.60304517]\n",
      "79 day output [[0.6012982]]\n",
      "80 day input [0.60843712 0.60661411 0.60481691 0.60304517 0.60129821]\n",
      "80 day output [[0.59957576]]\n",
      "81 day input [0.60661411 0.60481691 0.60304517 0.60129821 0.59957576]\n",
      "81 day output [[0.59787714]]\n",
      "82 day input [0.60481691 0.60304517 0.60129821 0.59957576 0.59787714]\n",
      "82 day output [[0.59620196]]\n",
      "83 day input [0.60304517 0.60129821 0.59957576 0.59787714 0.59620196]\n",
      "83 day output [[0.5945498]]\n",
      "84 day input [0.60129821 0.59957576 0.59787714 0.59620196 0.59454978]\n",
      "84 day output [[0.59291995]]\n",
      "85 day input [0.59957576 0.59787714 0.59620196 0.59454978 0.59291995]\n",
      "85 day output [[0.59131265]]\n",
      "86 day input [0.59787714 0.59620196 0.59454978 0.59291995 0.59131265]\n",
      "86 day output [[0.5897268]]\n",
      "87 day input [0.59620196 0.59454978 0.59291995 0.59131265 0.58972681]\n"
     ]
    },
    {
     "name": "stdout",
     "output_type": "stream",
     "text": [
      "87 day output [[0.5881622]]\n",
      "88 day input [0.59454978 0.59291995 0.59131265 0.58972681 0.58816218]\n",
      "88 day output [[0.58661854]]\n",
      "89 day input [0.59291995 0.59131265 0.58972681 0.58816218 0.58661854]\n",
      "89 day output [[0.58509535]]\n",
      "90 day input [0.59131265 0.58972681 0.58816218 0.58661854 0.58509535]\n",
      "90 day output [[0.5835924]]\n",
      "91 day input [0.58972681 0.58816218 0.58661854 0.58509535 0.58359241]\n",
      "91 day output [[0.5821092]]\n",
      "[[0.8868918418884277], [0.8919283151626587], [0.8950148224830627], [0.8977242112159729], [0.8754850029945374], [0.8637670874595642], [0.8612008094787598], [0.8558558225631714], [0.8483781814575195], [0.8388814926147461], [0.8324939012527466], [0.8270491361618042], [0.8207376003265381], [0.8142015337944031], [0.8079076409339905], [0.8023009300231934], [0.7967705130577087], [0.7911639213562012], [0.7856957912445068], [0.7804402112960815], [0.775375485420227], [0.7703880667686462], [0.765491247177124], [0.7607269883155823], [0.7560909986495972], [0.7515633702278137], [0.7471282482147217], [0.742792010307312], [0.7385573983192444], [0.7344175577163696], [0.730366051197052], [0.7263996005058289], [0.722517728805542], [0.7187179923057556], [0.7149964570999146], [0.7113505601882935], [0.7077778577804565], [0.7042766809463501], [0.7008444666862488], [0.6974790692329407], [0.6941784024238586], [0.6909406185150146], [0.6877638697624207], [0.684646487236023], [0.6815865635871887], [0.6785826683044434], [0.6756330132484436], [0.6727362871170044], [0.6698908805847168], [0.6670956015586853], [0.6643489003181458], [0.6616497039794922], [0.6589964628219604], [0.6563884019851685], [0.6538241505622864], [0.6513025164604187], [0.6488226056098938], [0.6463833451271057], [0.6439836025238037], [0.6416226625442505], [0.6392992734909058], [0.6370129585266113], [0.6347626447677612], [0.6325472593307495], [0.6303663849830627], [0.6282190680503845], [0.626104474067688], [0.6240221261978149], [0.6219710111618042], [0.6199506521224976], [0.6179603338241577], [0.6159993410110474], [0.6140671968460083], [0.6121630668640137], [0.6102865934371948], [0.6084371209144592], [0.6066141128540039], [0.6048169136047363], [0.6030451655387878], [0.6012982130050659], [0.5995757579803467], [0.5978771448135376], [0.5962019562721252], [0.5945497751235962], [0.5929199457168579], [0.5913126468658447], [0.5897268056869507], [0.5881621837615967], [0.5866185426712036], [0.5850953459739685], [0.583592414855957], [0.5821092128753662]]\n"
     ]
    }
   ],
   "source": [
    "from numpy import array\n",
    "\n",
    "today = date.today()\n",
    "d1 = date(2022, 3, 1)\n",
    "\n",
    "n_steps = 5\n",
    "\n",
    "for i in range((d1 - today).days + 1):\n",
    "    \n",
    "    if(len(temp_input) > 5):\n",
    "#         print(temp_input)\n",
    "        x_input = np.array(temp_input[1:])\n",
    "        print(\"{} day input {}\".format(i, x_input))\n",
    "        x_input = x_input.reshape(1,-1)\n",
    "        x_input = x_input.reshape((1, n_steps, 1))\n",
    "        \n",
    "#         print(x_input.shape)\n",
    "        yhat = model.predict(x_input, verbose=0)\n",
    "        print(\"{} day output {}\".format(i, yhat))\n",
    "        temp_input.extend(yhat[0].tolist())\n",
    "        temp_input = temp_input[1:]\n",
    "        \n",
    "        #print(temp_input)\n",
    "        lst_output.extend(yhat.tolist())\n",
    "    else:\n",
    "        x_input = x_input.reshape((1, n_steps,1))\n",
    "        yhat = model.predict(x_input, verbose=0)\n",
    "#         print(yhat[0])\n",
    "        temp_input.extend(yhat[0].tolist())\n",
    "#         print(len(temp_input))\n",
    "        lst_output.extend(yhat.tolist())\n",
    "    \n",
    "\n",
    "print(lst_output)\n"
   ]
  },
  {
   "cell_type": "code",
   "execution_count": null,
   "id": "976a435a",
   "metadata": {},
   "outputs": [],
   "source": [
    "close.values"
   ]
  },
  {
   "cell_type": "code",
   "execution_count": 118,
   "id": "f0223b17",
   "metadata": {},
   "outputs": [
    {
     "data": {
      "text/plain": [
       "[datetime.datetime(2021, 11, 30, 20, 33, 3, 91019),\n",
       " datetime.datetime(2021, 12, 1, 20, 33, 3, 91019),\n",
       " datetime.datetime(2021, 12, 2, 20, 33, 3, 91019),\n",
       " datetime.datetime(2021, 12, 3, 20, 33, 3, 91019),\n",
       " datetime.datetime(2021, 12, 4, 20, 33, 3, 91019),\n",
       " datetime.datetime(2021, 12, 5, 20, 33, 3, 91019),\n",
       " datetime.datetime(2021, 12, 6, 20, 33, 3, 91019),\n",
       " datetime.datetime(2021, 12, 7, 20, 33, 3, 91019),\n",
       " datetime.datetime(2021, 12, 8, 20, 33, 3, 91019),\n",
       " datetime.datetime(2021, 12, 9, 20, 33, 3, 91019),\n",
       " datetime.datetime(2021, 12, 10, 20, 33, 3, 91019),\n",
       " datetime.datetime(2021, 12, 11, 20, 33, 3, 91019),\n",
       " datetime.datetime(2021, 12, 12, 20, 33, 3, 91019),\n",
       " datetime.datetime(2021, 12, 13, 20, 33, 3, 91019),\n",
       " datetime.datetime(2021, 12, 14, 20, 33, 3, 91019),\n",
       " datetime.datetime(2021, 12, 15, 20, 33, 3, 91019),\n",
       " datetime.datetime(2021, 12, 16, 20, 33, 3, 91019),\n",
       " datetime.datetime(2021, 12, 17, 20, 33, 3, 91019),\n",
       " datetime.datetime(2021, 12, 18, 20, 33, 3, 91019),\n",
       " datetime.datetime(2021, 12, 19, 20, 33, 3, 91019),\n",
       " datetime.datetime(2021, 12, 20, 20, 33, 3, 91019),\n",
       " datetime.datetime(2021, 12, 21, 20, 33, 3, 91019),\n",
       " datetime.datetime(2021, 12, 22, 20, 33, 3, 91019),\n",
       " datetime.datetime(2021, 12, 23, 20, 33, 3, 91019),\n",
       " datetime.datetime(2021, 12, 24, 20, 33, 3, 91019),\n",
       " datetime.datetime(2021, 12, 25, 20, 33, 3, 91019),\n",
       " datetime.datetime(2021, 12, 26, 20, 33, 3, 91019),\n",
       " datetime.datetime(2021, 12, 27, 20, 33, 3, 91019),\n",
       " datetime.datetime(2021, 12, 28, 20, 33, 3, 91019),\n",
       " datetime.datetime(2021, 12, 29, 20, 33, 3, 91019),\n",
       " datetime.datetime(2021, 12, 30, 20, 33, 3, 91019),\n",
       " datetime.datetime(2021, 12, 31, 20, 33, 3, 91019),\n",
       " datetime.datetime(2022, 1, 1, 20, 33, 3, 91019),\n",
       " datetime.datetime(2022, 1, 2, 20, 33, 3, 91019),\n",
       " datetime.datetime(2022, 1, 3, 20, 33, 3, 91019),\n",
       " datetime.datetime(2022, 1, 4, 20, 33, 3, 91019),\n",
       " datetime.datetime(2022, 1, 5, 20, 33, 3, 91019),\n",
       " datetime.datetime(2022, 1, 6, 20, 33, 3, 91019),\n",
       " datetime.datetime(2022, 1, 7, 20, 33, 3, 91019),\n",
       " datetime.datetime(2022, 1, 8, 20, 33, 3, 91019),\n",
       " datetime.datetime(2022, 1, 9, 20, 33, 3, 91019),\n",
       " datetime.datetime(2022, 1, 10, 20, 33, 3, 91019),\n",
       " datetime.datetime(2022, 1, 11, 20, 33, 3, 91019),\n",
       " datetime.datetime(2022, 1, 12, 20, 33, 3, 91019),\n",
       " datetime.datetime(2022, 1, 13, 20, 33, 3, 91019),\n",
       " datetime.datetime(2022, 1, 14, 20, 33, 3, 91019),\n",
       " datetime.datetime(2022, 1, 15, 20, 33, 3, 91019),\n",
       " datetime.datetime(2022, 1, 16, 20, 33, 3, 91019),\n",
       " datetime.datetime(2022, 1, 17, 20, 33, 3, 91019),\n",
       " datetime.datetime(2022, 1, 18, 20, 33, 3, 91019),\n",
       " datetime.datetime(2022, 1, 19, 20, 33, 3, 91019),\n",
       " datetime.datetime(2022, 1, 20, 20, 33, 3, 91019),\n",
       " datetime.datetime(2022, 1, 21, 20, 33, 3, 91019),\n",
       " datetime.datetime(2022, 1, 22, 20, 33, 3, 91019),\n",
       " datetime.datetime(2022, 1, 23, 20, 33, 3, 91019),\n",
       " datetime.datetime(2022, 1, 24, 20, 33, 3, 91019),\n",
       " datetime.datetime(2022, 1, 25, 20, 33, 3, 91019),\n",
       " datetime.datetime(2022, 1, 26, 20, 33, 3, 91019),\n",
       " datetime.datetime(2022, 1, 27, 20, 33, 3, 91019),\n",
       " datetime.datetime(2022, 1, 28, 20, 33, 3, 91019),\n",
       " datetime.datetime(2022, 1, 29, 20, 33, 3, 91019),\n",
       " datetime.datetime(2022, 1, 30, 20, 33, 3, 91019),\n",
       " datetime.datetime(2022, 1, 31, 20, 33, 3, 91019),\n",
       " datetime.datetime(2022, 2, 1, 20, 33, 3, 91019),\n",
       " datetime.datetime(2022, 2, 2, 20, 33, 3, 91019),\n",
       " datetime.datetime(2022, 2, 3, 20, 33, 3, 91019),\n",
       " datetime.datetime(2022, 2, 4, 20, 33, 3, 91019),\n",
       " datetime.datetime(2022, 2, 5, 20, 33, 3, 91019),\n",
       " datetime.datetime(2022, 2, 6, 20, 33, 3, 91019),\n",
       " datetime.datetime(2022, 2, 7, 20, 33, 3, 91019),\n",
       " datetime.datetime(2022, 2, 8, 20, 33, 3, 91019),\n",
       " datetime.datetime(2022, 2, 9, 20, 33, 3, 91019),\n",
       " datetime.datetime(2022, 2, 10, 20, 33, 3, 91019),\n",
       " datetime.datetime(2022, 2, 11, 20, 33, 3, 91019),\n",
       " datetime.datetime(2022, 2, 12, 20, 33, 3, 91019),\n",
       " datetime.datetime(2022, 2, 13, 20, 33, 3, 91019),\n",
       " datetime.datetime(2022, 2, 14, 20, 33, 3, 91019),\n",
       " datetime.datetime(2022, 2, 15, 20, 33, 3, 91019),\n",
       " datetime.datetime(2022, 2, 16, 20, 33, 3, 91019),\n",
       " datetime.datetime(2022, 2, 17, 20, 33, 3, 91019),\n",
       " datetime.datetime(2022, 2, 18, 20, 33, 3, 91019),\n",
       " datetime.datetime(2022, 2, 19, 20, 33, 3, 91019),\n",
       " datetime.datetime(2022, 2, 20, 20, 33, 3, 91019),\n",
       " datetime.datetime(2022, 2, 21, 20, 33, 3, 91019),\n",
       " datetime.datetime(2022, 2, 22, 20, 33, 3, 91019),\n",
       " datetime.datetime(2022, 2, 23, 20, 33, 3, 91019),\n",
       " datetime.datetime(2022, 2, 24, 20, 33, 3, 91019),\n",
       " datetime.datetime(2022, 2, 25, 20, 33, 3, 91019),\n",
       " datetime.datetime(2022, 2, 26, 20, 33, 3, 91019),\n",
       " datetime.datetime(2022, 2, 27, 20, 33, 3, 91019),\n",
       " datetime.datetime(2022, 2, 28, 20, 33, 3, 91019)]"
      ]
     },
     "execution_count": 118,
     "metadata": {},
     "output_type": "execute_result"
    }
   ],
   "source": [
    "base = datetime.today()\n",
    "date_list = [base + timedelta(days=x) for x in range(91)]\n",
    "date_list"
   ]
  },
  {
   "cell_type": "code",
   "execution_count": 121,
   "id": "20119372",
   "metadata": {},
   "outputs": [
    {
     "data": {
      "text/plain": [
       "<Figure size 720x1440 with 0 Axes>"
      ]
     },
     "metadata": {},
     "output_type": "display_data"
    }
   ],
   "source": []
  },
  {
   "cell_type": "code",
   "execution_count": 135,
   "id": "6aca6917",
   "metadata": {},
   "outputs": [
    {
     "name": "stdout",
     "output_type": "stream",
     "text": [
      "2021-11-29\n"
     ]
    },
    {
     "data": {
      "text/plain": [
       "<matplotlib.legend.Legend at 0x1511d3df0>"
      ]
     },
     "execution_count": 135,
     "metadata": {},
     "output_type": "execute_result"
    },
    {
     "data": {
      "image/png": "[encoded data removed]",
      "text/plain": [
       "<Figure size 1152x576 with 1 Axes>"
      ]
     },
     "metadata": {
      "needs_background": "light"
     },
     "output_type": "display_data"
    }
   ],
   "source": [
    "day_new=np.arange(1,len(close.values)+1)\n",
    "day_pred=np.arange(len(close.values),len(close.values)+92)\n",
    "print(df.index[-1].date())\n",
    "d1 = date(2022, 3, 1).strftime(\"%Y-%m-%d\")\n",
    "dates = []\n",
    "\n",
    "for i in range(len(df.index)):\n",
    "    dates.append(df.index[i].date())\n",
    "\n",
    "base = datetime.today()\n",
    "futureDates =  [base + timedelta(days=x) for x in range(92)]\n",
    "\n",
    "plt_1 = plt.figure(figsize=(16, 8))\n",
    "plt.plot(dates, close.values, label='Known')\n",
    "plt.plot(futureDates, sc.inverse_transform(lst_output), label='Stacked LSTMs Prediction')\n",
    "plt.legend()"
   ]
  },
  {
   "cell_type": "code",
   "execution_count": null,
   "id": "bcb3a0ed",
   "metadata": {},
   "outputs": [],
   "source": []
  }
 ],
 "metadata": {
  "kernelspec": {
   "display_name": "Python 3",
   "language": "python",
   "name": "python3"
  },
  "language_info": {
   "codemirror_mode": {
    "name": "ipython",
    "version": 3
   },
   "file_extension": ".py",
   "mimetype": "text/x-python",
   "name": "python",
   "nbconvert_exporter": "python",
   "pygments_lexer": "ipython3",
   "version": "3.9.8"
  }
 },
 "nbformat": 4,
 "nbformat_minor": 5
}
