{
 "cells": [
  {
   "cell_type": "markdown",
   "id": "f116b2d4",
   "metadata": {},
   "source": [
    "## Data Preparation"
   ]
  },
  {
   "cell_type": "code",
   "execution_count": 1,
   "id": "f0844ba3",
   "metadata": {
    "scrolled": true
   },
   "outputs": [],
   "source": [
    "import yfinance as yf\n",
    "import pandas as pd\n",
    "import numpy as np\n",
    "from datetime import date\n",
    "from datetime import datetime, timedelta\n",
    "import math\n",
    "import matplotlib.pyplot as plt\n",
    "\n",
    "import pickle\n",
    "import tensorflow as tf\n",
    "from tensorflow import keras\n",
    "from tensorflow.keras import layers\n",
    "\n",
    "from keras.models import load_model, Model\n",
    "from keras.layers import Dense, Dropout, Activation, Input, LSTM, Reshape, Dense, SimpleRNN, GRU, LSTM, Dropout\n",
    "from tensorflow.keras.optimizers import SGD\n",
    "\n",
    "from keras.utils import np_utils\n",
    "from sklearn.preprocessing import MinMaxScaler\n",
    "from sklearn.metrics import mean_squared_error"
   ]
  },
  {
   "cell_type": "code",
   "execution_count": 2,
   "id": "fe33dadc",
   "metadata": {
    "scrolled": true
   },
   "outputs": [
    {
     "name": "stdout",
     "output_type": "stream",
     "text": [
      "[*********************100%***********************]  1 of 1 completed\n"
     ]
    }
   ],
   "source": [
    "df = yf.download(\"PFE\", start=\"2013-01-01\", end=date.today())"
   ]
  },
  {
   "cell_type": "code",
   "execution_count": 3,
   "id": "e79279eb",
   "metadata": {
    "scrolled": true
   },
   "outputs": [
    {
     "data": {
      "text/html": [
       "<div>\n",
       "<style scoped>\n",
       "    .dataframe tbody tr th:only-of-type {\n",
       "        vertical-align: middle;\n",
       "    }\n",
       "\n",
       "    .dataframe tbody tr th {\n",
       "        vertical-align: top;\n",
       "    }\n",
       "\n",
       "    .dataframe thead th {\n",
       "        text-align: right;\n",
       "    }\n",
       "</style>\n",
       "<table border=\"1\" class=\"dataframe\">\n",
       "  <thead>\n",
       "    <tr style=\"text-align: right;\">\n",
       "      <th></th>\n",
       "      <th>Open</th>\n",
       "      <th>High</th>\n",
       "      <th>Low</th>\n",
       "      <th>Close</th>\n",
       "      <th>Adj Close</th>\n",
       "      <th>Volume</th>\n",
       "    </tr>\n",
       "    <tr>\n",
       "      <th>Date</th>\n",
       "      <th></th>\n",
       "      <th></th>\n",
       "      <th></th>\n",
       "      <th></th>\n",
       "      <th></th>\n",
       "      <th></th>\n",
       "    </tr>\n",
       "  </thead>\n",
       "  <tbody>\n",
       "    <tr>\n",
       "      <th>2013-01-02</th>\n",
       "      <td>24.222012</td>\n",
       "      <td>24.582542</td>\n",
       "      <td>24.032257</td>\n",
       "      <td>24.582542</td>\n",
       "      <td>17.744640</td>\n",
       "      <td>35332399</td>\n",
       "    </tr>\n",
       "    <tr>\n",
       "      <th>2013-01-03</th>\n",
       "      <td>24.648956</td>\n",
       "      <td>24.658443</td>\n",
       "      <td>24.250475</td>\n",
       "      <td>24.525618</td>\n",
       "      <td>17.703550</td>\n",
       "      <td>35580300</td>\n",
       "    </tr>\n",
       "    <tr>\n",
       "      <th>2013-01-04</th>\n",
       "      <td>24.525618</td>\n",
       "      <td>24.658443</td>\n",
       "      <td>24.440228</td>\n",
       "      <td>24.629980</td>\n",
       "      <td>17.778881</td>\n",
       "      <td>30149565</td>\n",
       "    </tr>\n",
       "    <tr>\n",
       "      <th>2013-01-07</th>\n",
       "      <td>24.582542</td>\n",
       "      <td>24.715370</td>\n",
       "      <td>24.449715</td>\n",
       "      <td>24.648956</td>\n",
       "      <td>17.792578</td>\n",
       "      <td>27172015</td>\n",
       "    </tr>\n",
       "    <tr>\n",
       "      <th>2013-01-08</th>\n",
       "      <td>24.667933</td>\n",
       "      <td>24.905123</td>\n",
       "      <td>24.648956</td>\n",
       "      <td>24.686907</td>\n",
       "      <td>17.819975</td>\n",
       "      <td>32734078</td>\n",
       "    </tr>\n",
       "    <tr>\n",
       "      <th>...</th>\n",
       "      <td>...</td>\n",
       "      <td>...</td>\n",
       "      <td>...</td>\n",
       "      <td>...</td>\n",
       "      <td>...</td>\n",
       "      <td>...</td>\n",
       "    </tr>\n",
       "    <tr>\n",
       "      <th>2021-11-22</th>\n",
       "      <td>50.950001</td>\n",
       "      <td>51.470001</td>\n",
       "      <td>50.380001</td>\n",
       "      <td>51.200001</td>\n",
       "      <td>51.200001</td>\n",
       "      <td>27287900</td>\n",
       "    </tr>\n",
       "    <tr>\n",
       "      <th>2021-11-23</th>\n",
       "      <td>50.580002</td>\n",
       "      <td>51.450001</td>\n",
       "      <td>50.299999</td>\n",
       "      <td>51.080002</td>\n",
       "      <td>51.080002</td>\n",
       "      <td>24946200</td>\n",
       "    </tr>\n",
       "    <tr>\n",
       "      <th>2021-11-24</th>\n",
       "      <td>51.180000</td>\n",
       "      <td>51.330002</td>\n",
       "      <td>50.709999</td>\n",
       "      <td>50.889999</td>\n",
       "      <td>50.889999</td>\n",
       "      <td>18556800</td>\n",
       "    </tr>\n",
       "    <tr>\n",
       "      <th>2021-11-26</th>\n",
       "      <td>54.040001</td>\n",
       "      <td>54.939999</td>\n",
       "      <td>53.250000</td>\n",
       "      <td>54.000000</td>\n",
       "      <td>54.000000</td>\n",
       "      <td>66561300</td>\n",
       "    </tr>\n",
       "    <tr>\n",
       "      <th>2021-11-29</th>\n",
       "      <td>55.150002</td>\n",
       "      <td>55.700001</td>\n",
       "      <td>52.110001</td>\n",
       "      <td>52.400002</td>\n",
       "      <td>52.400002</td>\n",
       "      <td>72660800</td>\n",
       "    </tr>\n",
       "  </tbody>\n",
       "</table>\n",
       "<p>2244 rows × 6 columns</p>\n",
       "</div>"
      ],
      "text/plain": [
       "                 Open       High        Low      Close  Adj Close    Volume\n",
       "Date                                                                       \n",
       "2013-01-02  24.222012  24.582542  24.032257  24.582542  17.744640  35332399\n",
       "2013-01-03  24.648956  24.658443  24.250475  24.525618  17.703550  35580300\n",
       "2013-01-04  24.525618  24.658443  24.440228  24.629980  17.778881  30149565\n",
       "2013-01-07  24.582542  24.715370  24.449715  24.648956  17.792578  27172015\n",
       "2013-01-08  24.667933  24.905123  24.648956  24.686907  17.819975  32734078\n",
       "...               ...        ...        ...        ...        ...       ...\n",
       "2021-11-22  50.950001  51.470001  50.380001  51.200001  51.200001  27287900\n",
       "2021-11-23  50.580002  51.450001  50.299999  51.080002  51.080002  24946200\n",
       "2021-11-24  51.180000  51.330002  50.709999  50.889999  50.889999  18556800\n",
       "2021-11-26  54.040001  54.939999  53.250000  54.000000  54.000000  66561300\n",
       "2021-11-29  55.150002  55.700001  52.110001  52.400002  52.400002  72660800\n",
       "\n",
       "[2244 rows x 6 columns]"
      ]
     },
     "execution_count": 3,
     "metadata": {},
     "output_type": "execute_result"
    }
   ],
   "source": [
    "df"
   ]
  },
  {
   "cell_type": "code",
   "execution_count": 4,
   "id": "7ad7c095",
   "metadata": {
    "scrolled": true
   },
   "outputs": [],
   "source": [
    "close = df[\"Close\"]"
   ]
  },
  {
   "cell_type": "code",
   "execution_count": 5,
   "id": "12ba2c8d",
   "metadata": {
    "scrolled": true
   },
   "outputs": [],
   "source": [
    "# create training and test set\n",
    "train = close[:'2018'].values\n",
    "test  = close['2019':].values\n",
    "\n",
    "# scale the data\n",
    "sc = MinMaxScaler(feature_range=(0,1))\n",
    "train_scaled = sc.fit_transform(np.array(train).reshape(-1,1))\n",
    "test_scaled = sc.fit_transform(np.array(test).reshape(-1,1))"
   ]
  },
  {
   "cell_type": "code",
   "execution_count": 6,
   "id": "e19e809a",
   "metadata": {
    "scrolled": true
   },
   "outputs": [],
   "source": [
    "def prepare_data(time_steps):\n",
    "    '''\n",
    "    input: \n",
    "      data: dataframe with dates and price data\n",
    "    output:\n",
    "      X_train, y_train: data from 2013/1/1-2018/12/31\n",
    "      X_test:  data from 2019 -\n",
    "      sc:      insantiated MinMaxScaler object fit to the training data\n",
    "    '''\n",
    "\n",
    "    # create training data of s samples and t time steps\n",
    "    X_train = []\n",
    "    y_train = []\n",
    "    for i in range(time_steps, len(train) - 1): \n",
    "        X_train.append(train_scaled[i - time_steps: i, 0])\n",
    "        y_train.append(train_scaled[i: i + 1, 0])\n",
    "    X_train, y_train = np.array(X_train), np.array(y_train)\n",
    "\n",
    "    # Reshaping X_train for efficient modelling\n",
    "    X_train = np.reshape(X_train, \n",
    "                        (X_train.shape[0],X_train.shape[1], 1) )\n",
    "\n",
    "    test_inputs = close.values[len(close) - len(test) - time_steps:].reshape(-1, 1)\n",
    "    test_inputs_scaled = sc.transform(test_inputs)\n",
    "    \n",
    "    # Preparing X_test\n",
    "    X_test = []\n",
    "    # 5 - (734 + 5 - 1)\n",
    "    for i in range(time_steps, len(test) + time_steps):\n",
    "        X_test.append(test_inputs_scaled[i - time_steps: i, 0])\n",
    "        \n",
    "    X_test = np.array(X_test)\n",
    "    X_test = np.reshape(X_test, (X_test.shape[0], X_test.shape[1], 1) )\n",
    "\n",
    "    return X_train, y_train , X_test, sc"
   ]
  },
  {
   "cell_type": "code",
   "execution_count": null,
   "id": "c03d9218",
   "metadata": {
    "scrolled": true
   },
   "outputs": [],
   "source": []
  },
  {
   "cell_type": "code",
   "execution_count": 7,
   "id": "c81ae15e",
   "metadata": {
    "scrolled": true
   },
   "outputs": [],
   "source": [
    "# We use a 5 past-day window\n",
    "X_train, y_train, X_test, sc = prepare_data(5)"
   ]
  },
  {
   "cell_type": "markdown",
   "id": "f195d2e8",
   "metadata": {},
   "source": [
    "## Model Construction"
   ]
  },
  {
   "cell_type": "code",
   "execution_count": 8,
   "id": "2567737e",
   "metadata": {
    "scrolled": true
   },
   "outputs": [],
   "source": [
    "model = keras.Sequential()\n",
    "\n",
    "model.add(LSTM(units=50, return_sequences=True, input_shape=(X_train.shape[1],1), activation='tanh'))\n",
    "#model.add(LSTM(units=50, return_sequences=True, input_shape=(X_train.shape[1],1), activation='tanh'))\n",
    "#my_LSTM_model.add(LSTM(units=50, return_sequences=True, input_shape=(X_train.shape[1],1), activation='tanh'))\n",
    "model.add(LSTM(units=50, activation='tanh'))\n",
    "model.add(Dropout(0.4))\n",
    "model.add(Dense(units=1))"
   ]
  },
  {
   "cell_type": "code",
   "execution_count": 9,
   "id": "4ae130ce",
   "metadata": {
    "scrolled": true
   },
   "outputs": [],
   "source": [
    "model.compile(optimizer=SGD(learning_rate=0.01, \n",
    "                            decay=1e-7, \n",
    "                            momentum=0.9, \n",
    "                            nesterov=False),\n",
    "                loss='mean_squared_error')"
   ]
  },
  {
   "cell_type": "code",
   "execution_count": 10,
   "id": "3df9ab01",
   "metadata": {
    "scrolled": true
   },
   "outputs": [
    {
     "name": "stdout",
     "output_type": "stream",
     "text": [
      "Model: \"sequential\"\n",
      "_________________________________________________________________\n",
      " Layer (type)                Output Shape              Param #   \n",
      "=================================================================\n",
      " lstm (LSTM)                 (None, 5, 50)             10400     \n",
      "                                                                 \n",
      " lstm_1 (LSTM)               (None, 50)                20200     \n",
      "                                                                 \n",
      " dropout (Dropout)           (None, 50)                0         \n",
      "                                                                 \n",
      " dense (Dense)               (None, 1)                 51        \n",
      "                                                                 \n",
      "=================================================================\n",
      "Total params: 30,651\n",
      "Trainable params: 30,651\n",
      "Non-trainable params: 0\n",
      "_________________________________________________________________\n"
     ]
    }
   ],
   "source": [
    "model.summary()"
   ]
  },
  {
   "cell_type": "code",
   "execution_count": 11,
   "id": "17518c33",
   "metadata": {
    "scrolled": true
   },
   "outputs": [
    {
     "name": "stdout",
     "output_type": "stream",
     "text": [
      "Epoch 1/50\n",
      "11/11 [==============================] - 3s 8ms/step - loss: 0.0822\n",
      "Epoch 2/50\n",
      "11/11 [==============================] - 0s 8ms/step - loss: 0.0588\n",
      "Epoch 3/50\n",
      "11/11 [==============================] - 0s 7ms/step - loss: 0.0372\n",
      "Epoch 4/50\n",
      "11/11 [==============================] - 0s 7ms/step - loss: 0.0313\n",
      "Epoch 5/50\n",
      "11/11 [==============================] - 0s 6ms/step - loss: 0.0288\n",
      "Epoch 6/50\n",
      "11/11 [==============================] - 0s 6ms/step - loss: 0.0260\n",
      "Epoch 7/50\n",
      "11/11 [==============================] - 0s 6ms/step - loss: 0.0244\n",
      "Epoch 8/50\n",
      "11/11 [==============================] - 0s 6ms/step - loss: 0.0225\n",
      "Epoch 9/50\n",
      "11/11 [==============================] - 0s 6ms/step - loss: 0.0209\n",
      "Epoch 10/50\n",
      "11/11 [==============================] - 0s 6ms/step - loss: 0.0193\n",
      "Epoch 11/50\n",
      "11/11 [==============================] - 0s 7ms/step - loss: 0.0185\n",
      "Epoch 12/50\n",
      "11/11 [==============================] - 0s 6ms/step - loss: 0.0161\n",
      "Epoch 13/50\n",
      "11/11 [==============================] - 0s 6ms/step - loss: 0.0144\n",
      "Epoch 14/50\n",
      "11/11 [==============================] - 0s 6ms/step - loss: 0.0129\n",
      "Epoch 15/50\n",
      "11/11 [==============================] - 0s 6ms/step - loss: 0.0115\n",
      "Epoch 16/50\n",
      "11/11 [==============================] - 0s 6ms/step - loss: 0.0103\n",
      "Epoch 17/50\n",
      "11/11 [==============================] - 0s 6ms/step - loss: 0.0090\n",
      "Epoch 18/50\n",
      "11/11 [==============================] - 0s 7ms/step - loss: 0.0082\n",
      "Epoch 19/50\n",
      "11/11 [==============================] - 0s 8ms/step - loss: 0.0066\n",
      "Epoch 20/50\n",
      "11/11 [==============================] - 0s 7ms/step - loss: 0.0064\n",
      "Epoch 21/50\n",
      "11/11 [==============================] - 0s 7ms/step - loss: 0.0052\n",
      "Epoch 22/50\n",
      "11/11 [==============================] - 0s 7ms/step - loss: 0.0042\n",
      "Epoch 23/50\n",
      "11/11 [==============================] - 0s 7ms/step - loss: 0.0040\n",
      "Epoch 24/50\n",
      "11/11 [==============================] - 0s 7ms/step - loss: 0.0033\n",
      "Epoch 25/50\n",
      "11/11 [==============================] - 0s 7ms/step - loss: 0.0030\n",
      "Epoch 26/50\n",
      "11/11 [==============================] - 0s 6ms/step - loss: 0.0026\n",
      "Epoch 27/50\n",
      "11/11 [==============================] - 0s 6ms/step - loss: 0.0028\n",
      "Epoch 28/50\n",
      "11/11 [==============================] - 0s 6ms/step - loss: 0.0023\n",
      "Epoch 29/50\n",
      "11/11 [==============================] - 0s 6ms/step - loss: 0.0024\n",
      "Epoch 30/50\n",
      "11/11 [==============================] - 0s 6ms/step - loss: 0.0022\n",
      "Epoch 31/50\n",
      "11/11 [==============================] - 0s 6ms/step - loss: 0.0021\n",
      "Epoch 32/50\n",
      "11/11 [==============================] - 0s 6ms/step - loss: 0.0021\n",
      "Epoch 33/50\n",
      "11/11 [==============================] - 0s 6ms/step - loss: 0.0024\n",
      "Epoch 34/50\n",
      "11/11 [==============================] - 0s 6ms/step - loss: 0.0018\n",
      "Epoch 35/50\n",
      "11/11 [==============================] - 0s 6ms/step - loss: 0.0019\n",
      "Epoch 36/50\n",
      "11/11 [==============================] - 0s 6ms/step - loss: 0.0020\n",
      "Epoch 37/50\n",
      "11/11 [==============================] - 0s 6ms/step - loss: 0.0018\n",
      "Epoch 38/50\n",
      "11/11 [==============================] - 0s 6ms/step - loss: 0.0020\n",
      "Epoch 39/50\n",
      "11/11 [==============================] - 0s 6ms/step - loss: 0.0018\n",
      "Epoch 40/50\n",
      "11/11 [==============================] - 0s 6ms/step - loss: 0.0018\n",
      "Epoch 41/50\n",
      "11/11 [==============================] - 0s 6ms/step - loss: 0.0020\n",
      "Epoch 42/50\n",
      "11/11 [==============================] - 0s 7ms/step - loss: 0.0020\n",
      "Epoch 43/50\n",
      "11/11 [==============================] - 0s 7ms/step - loss: 0.0019\n",
      "Epoch 44/50\n",
      "11/11 [==============================] - 0s 7ms/step - loss: 0.0019\n",
      "Epoch 45/50\n",
      "11/11 [==============================] - 0s 6ms/step - loss: 0.0019\n",
      "Epoch 46/50\n",
      "11/11 [==============================] - 0s 6ms/step - loss: 0.0018\n",
      "Epoch 47/50\n",
      "11/11 [==============================] - 0s 6ms/step - loss: 0.0017\n",
      "Epoch 48/50\n",
      "11/11 [==============================] - 0s 6ms/step - loss: 0.0017\n",
      "Epoch 49/50\n",
      "11/11 [==============================] - 0s 6ms/step - loss: 0.0019\n",
      "Epoch 50/50\n",
      "11/11 [==============================] - 0s 6ms/step - loss: 0.0017\n"
     ]
    },
    {
     "data": {
      "text/plain": [
       "<keras.callbacks.History at 0x15b4b55b0>"
      ]
     },
     "execution_count": 11,
     "metadata": {},
     "output_type": "execute_result"
    }
   ],
   "source": [
    "model.fit(X_train, y_train, epochs=50, batch_size=150, verbose=1)"
   ]
  },
  {
   "cell_type": "code",
   "execution_count": 12,
   "id": "aade445a",
   "metadata": {
    "scrolled": true
   },
   "outputs": [],
   "source": [
    "train_predict = sc.inverse_transform(model.predict(X_train))\n",
    "test_predict = sc.inverse_transform(model.predict(X_test))"
   ]
  },
  {
   "cell_type": "code",
   "execution_count": 13,
   "id": "f1c317c0",
   "metadata": {
    "scrolled": true
   },
   "outputs": [
    {
     "data": {
      "text/plain": [
       "36.67808030408469"
      ]
     },
     "execution_count": 13,
     "metadata": {},
     "output_type": "execute_result"
    }
   ],
   "source": [
    "math.sqrt(mean_squared_error(y_train, train_predict))"
   ]
  },
  {
   "cell_type": "code",
   "execution_count": 14,
   "id": "a203cf7f",
   "metadata": {
    "scrolled": true
   },
   "outputs": [],
   "source": [
    "def plot_graphs(X_test, model_predict):\n",
    "    X = df[\"2019\":].index[:-1]\n",
    "    plt.plot(X, sc.inverse_transform(X_test[:-1, 0]), label='True')\n",
    "    plt.plot(X, model_predict, label='Prediction')\n",
    "    \n",
    "    plt.legend()"
   ]
  },
  {
   "cell_type": "code",
   "execution_count": 15,
   "id": "d0ebf1d1",
   "metadata": {
    "scrolled": true
   },
   "outputs": [
    {
     "data": {
      "image/png": "[encoded data removed]",
      "text/plain": [
       "<Figure size 432x288 with 1 Axes>"
      ]
     },
     "metadata": {
      "needs_background": "light"
     },
     "output_type": "display_data"
    }
   ],
   "source": [
    "plot_graphs(X_test, test_predict[:-1])"
   ]
  },
  {
   "cell_type": "markdown",
   "id": "1eaf7a94",
   "metadata": {},
   "source": [
    "## Predicton"
   ]
  },
  {
   "cell_type": "code",
   "execution_count": 16,
   "id": "74113834",
   "metadata": {
    "scrolled": true
   },
   "outputs": [
    {
     "data": {
      "text/plain": [
       "(1504, 5, 1)"
      ]
     },
     "execution_count": 16,
     "metadata": {},
     "output_type": "execute_result"
    }
   ],
   "source": [
    "X_train.shape"
   ]
  },
  {
   "cell_type": "code",
   "execution_count": 17,
   "id": "0c3cf259",
   "metadata": {
    "scrolled": true
   },
   "outputs": [
    {
     "data": {
      "text/plain": [
       "734"
      ]
     },
     "execution_count": 17,
     "metadata": {},
     "output_type": "execute_result"
    }
   ],
   "source": [
    "len(test)"
   ]
  },
  {
   "cell_type": "code",
   "execution_count": 18,
   "id": "bc804374",
   "metadata": {
    "scrolled": true
   },
   "outputs": [],
   "source": [
    "lst_output = []\n",
    "x_input = test_scaled[729:].reshape(1,-1)\n",
    "temp_input=list(x_input)\n",
    "temp_input=temp_input[0].tolist()"
   ]
  },
  {
   "cell_type": "code",
   "execution_count": 19,
   "id": "b45133c0",
   "metadata": {
    "scrolled": true
   },
   "outputs": [
    {
     "name": "stdout",
     "output_type": "stream",
     "text": [
      "1 day input [0.89173017 0.88468512 1.         0.94067409 0.88861167]\n",
      "1 day output [[0.89378417]]\n",
      "2 day input [0.88468512 1.         0.94067409 0.88861167 0.89378417]\n",
      "2 day output [[0.8969997]]\n",
      "3 day input [1.         0.94067409 0.88861167 0.89378417 0.89699972]\n",
      "3 day output [[0.89994836]]\n",
      "4 day input [0.94067409 0.88861167 0.89378417 0.89699972 0.89994836]\n",
      "4 day output [[0.8782096]]\n",
      "5 day input [0.88861167 0.89378417 0.89699972 0.89994836 0.87820959]\n",
      "5 day output [[0.86704326]]\n",
      "6 day input [0.89378417 0.89699972 0.89994836 0.87820959 0.86704326]\n",
      "6 day output [[0.8646724]]\n",
      "7 day input [0.89699972 0.89994836 0.87820959 0.86704326 0.86467242]\n",
      "7 day output [[0.85958064]]\n",
      "8 day input [0.89994836 0.87820959 0.86704326 0.86467242 0.85958064]\n",
      "8 day output [[0.8524264]]\n",
      "9 day input [0.87820959 0.86704326 0.86467242 0.85958064 0.85242641]\n",
      "9 day output [[0.8432909]]\n",
      "10 day input [0.86704326 0.86467242 0.85958064 0.85242641 0.84329093]\n",
      "10 day output [[0.8372047]]\n",
      "11 day input [0.86467242 0.85958064 0.85242641 0.84329093 0.83720469]\n",
      "11 day output [[0.83200085]]\n",
      "12 day input [0.85958064 0.85242641 0.84329093 0.83720469 0.83200085]\n",
      "12 day output [[0.82596004]]\n",
      "13 day input [0.85242641 0.84329093 0.83720469 0.83200085 0.82596004]\n",
      "13 day output [[0.8197067]]\n",
      "14 day input [0.84329093 0.83720469 0.83200085 0.82596004 0.81970668]\n",
      "14 day output [[0.8136858]]\n",
      "15 day input [0.83720469 0.83200085 0.82596004 0.81970668 0.81368577]\n",
      "15 day output [[0.8083286]]\n",
      "16 day input [0.83200085 0.82596004 0.81970668 0.81368577 0.80832863]\n",
      "16 day output [[0.80304027]]\n",
      "17 day input [0.82596004 0.81970668 0.81368577 0.80832863 0.80304027]\n",
      "17 day output [[0.7976818]]\n",
      "18 day input [0.81970668 0.81368577 0.80832863 0.80304027 0.79768181]\n",
      "18 day output [[0.7924584]]\n",
      "19 day input [0.81368577 0.80832863 0.80304027 0.79768181 0.79245842]\n",
      "19 day output [[0.7874392]]\n",
      "20 day input [0.80832863 0.80304027 0.79768181 0.79245842 0.78743923]\n",
      "20 day output [[0.78260386]]\n",
      "21 day input [0.80304027 0.79768181 0.79245842 0.78743923 0.78260386]\n",
      "21 day output [[0.7778437]]\n",
      "22 day input [0.79768181 0.79245842 0.78743923 0.78260386 0.77784371]\n",
      "22 day output [[0.7731726]]\n",
      "23 day input [0.79245842 0.78743923 0.78260386 0.77784371 0.77317262]\n",
      "23 day output [[0.7686299]]\n",
      "24 day input [0.78743923 0.78260386 0.77784371 0.77317262 0.76862991]\n",
      "24 day output [[0.7642113]]\n",
      "25 day input [0.78260386 0.77784371 0.77317262 0.76862991 0.7642113 ]\n",
      "25 day output [[0.759898]]\n",
      "26 day input [0.77784371 0.77317262 0.76862991 0.7642113  0.75989801]\n",
      "26 day output [[0.75567496]]\n",
      "27 day input [0.77317262 0.76862991 0.7642113  0.75989801 0.75567496]\n",
      "27 day output [[0.7515484]]\n",
      "28 day input [0.76862991 0.7642113  0.75989801 0.75567496 0.75154841]\n",
      "28 day output [[0.7475206]]\n",
      "29 day input [0.7642113  0.75989801 0.75567496 0.75154841 0.74752063]\n",
      "29 day output [[0.743585]]\n",
      "30 day input [0.75989801 0.75567496 0.75154841 0.74752063 0.74358499]\n",
      "30 day output [[0.73973554]]\n",
      "31 day input [0.75567496 0.75154841 0.74752063 0.74358499 0.73973554]\n",
      "31 day output [[0.7359692]]\n",
      "32 day input [0.75154841 0.74752063 0.74358499 0.73973554 0.73596919]\n",
      "32 day output [[0.7322854]]\n",
      "33 day input [0.74752063 0.74358499 0.73973554 0.73596919 0.73228538]\n",
      "33 day output [[0.7286817]]\n",
      "34 day input [0.74358499 0.73973554 0.73596919 0.73228538 0.72868168]\n",
      "34 day output [[0.7251543]]\n",
      "35 day input [0.73973554 0.73596919 0.73228538 0.72868168 0.72515428]\n",
      "35 day output [[0.7217006]]\n",
      "36 day input [0.73596919 0.73228538 0.72868168 0.72515428 0.72170061]\n",
      "36 day output [[0.7183187]]\n",
      "37 day input [0.73228538 0.72868168 0.72515428 0.72170061 0.7183187 ]\n",
      "37 day output [[0.7150065]]\n",
      "38 day input [0.72868168 0.72515428 0.72170061 0.7183187  0.71500647]\n",
      "38 day output [[0.71176183]]\n",
      "39 day input [0.72515428 0.72170061 0.7183187  0.71500647 0.71176183]\n",
      "39 day output [[0.7085823]]\n",
      "40 day input [0.72170061 0.7183187  0.71500647 0.71176183 0.70858228]\n",
      "40 day output [[0.70546615]]\n",
      "41 day input [0.7183187  0.71500647 0.71176183 0.70858228 0.70546615]\n",
      "41 day output [[0.7024115]]\n",
      "42 day input [0.71500647 0.71176183 0.70858228 0.70546615 0.70241147]\n",
      "42 day output [[0.6994164]]\n",
      "43 day input [0.71176183 0.70858228 0.70546615 0.70241147 0.6994164 ]\n",
      "43 day output [[0.6964795]]\n",
      "44 day input [0.70858228 0.70546615 0.70241147 0.6994164  0.6964795 ]\n",
      "44 day output [[0.6935986]]\n",
      "45 day input [0.70546615 0.70241147 0.6994164  0.6964795  0.69359863]\n",
      "45 day output [[0.69077253]]\n",
      "46 day input [0.70241147 0.6994164  0.6964795  0.69359863 0.69077253]\n",
      "46 day output [[0.6879996]]\n",
      "47 day input [0.6994164  0.6964795  0.69359863 0.69077253 0.68799961]\n",
      "47 day output [[0.68527836]]\n",
      "48 day input [0.6964795  0.69359863 0.69077253 0.68799961 0.68527836]\n",
      "48 day output [[0.6826073]]\n",
      "49 day input [0.69359863 0.69077253 0.68799961 0.68527836 0.68260729]\n",
      "49 day output [[0.67998517]]\n",
      "50 day input [0.69077253 0.68799961 0.68527836 0.68260729 0.67998517]\n",
      "50 day output [[0.6774106]]\n",
      "51 day input [0.68799961 0.68527836 0.68260729 0.67998517 0.6774106 ]\n",
      "51 day output [[0.6748825]]\n",
      "52 day input [0.68527836 0.68260729 0.67998517 0.6774106  0.67488247]\n",
      "52 day output [[0.6723993]]\n",
      "53 day input [0.68260729 0.67998517 0.6774106  0.67488247 0.67239928]\n",
      "53 day output [[0.66996014]]\n",
      "54 day input [0.67998517 0.6774106  0.67488247 0.67239928 0.66996014]\n",
      "54 day output [[0.6675638]]\n",
      "55 day input [0.6774106  0.67488247 0.67239928 0.66996014 0.6675638 ]\n",
      "55 day output [[0.6652092]]\n",
      "56 day input [0.67488247 0.67239928 0.66996014 0.6675638  0.66520917]\n",
      "56 day output [[0.6628953]]\n",
      "57 day input [0.67239928 0.66996014 0.6675638  0.66520917 0.66289532]\n",
      "57 day output [[0.66062087]]\n",
      "58 day input [0.66996014 0.6675638  0.66520917 0.66289532 0.66062087]\n",
      "58 day output [[0.6583853]]\n",
      "59 day input [0.6675638  0.66520917 0.66289532 0.66062087 0.65838528]\n",
      "59 day output [[0.6561874]]\n",
      "60 day input [0.66520917 0.66289532 0.66062087 0.65838528 0.65618742]\n",
      "60 day output [[0.6540263]]\n",
      "61 day input [0.66289532 0.66062087 0.65838528 0.65618742 0.65402633]\n",
      "61 day output [[0.6519013]]\n",
      "62 day input [0.66062087 0.65838528 0.65618742 0.65402633 0.6519013 ]\n",
      "62 day output [[0.64981115]]\n",
      "63 day input [0.65838528 0.65618742 0.65402633 0.6519013  0.64981115]\n",
      "63 day output [[0.6477555]]\n",
      "64 day input [0.65618742 0.65402633 0.6519013  0.64981115 0.6477555 ]\n",
      "64 day output [[0.64573324]]\n",
      "65 day input [0.65402633 0.6519013  0.64981115 0.6477555  0.64573324]\n",
      "65 day output [[0.64374363]]\n",
      "66 day input [0.6519013  0.64981115 0.6477555  0.64573324 0.64374363]\n",
      "66 day output [[0.641786]]\n",
      "67 day input [0.64981115 0.6477555  0.64573324 0.64374363 0.64178598]\n",
      "67 day output [[0.63985956]]\n",
      "68 day input [0.6477555  0.64573324 0.64374363 0.64178598 0.63985956]\n",
      "68 day output [[0.6379637]]\n",
      "69 day input [0.64573324 0.64374363 0.64178598 0.63985956 0.63796371]\n",
      "69 day output [[0.63609767]]\n",
      "70 day input [0.64374363 0.64178598 0.63985956 0.63796371 0.63609767]\n",
      "70 day output [[0.6342609]]\n",
      "71 day input [0.64178598 0.63985956 0.63796371 0.63609767 0.63426089]\n",
      "71 day output [[0.63245255]]\n",
      "72 day input [0.63985956 0.63796371 0.63609767 0.63426089 0.63245255]\n",
      "72 day output [[0.63067216]]\n",
      "73 day input [0.63796371 0.63609767 0.63426089 0.63245255 0.63067216]\n",
      "73 day output [[0.6289191]]\n",
      "74 day input [0.63609767 0.63426089 0.63245255 0.63067216 0.62891912]\n",
      "74 day output [[0.62719285]]\n",
      "75 day input [0.63426089 0.63245255 0.63067216 0.62891912 0.62719285]\n",
      "75 day output [[0.6254928]]\n",
      "76 day input [0.63245255 0.63067216 0.62891912 0.62719285 0.62549281]\n",
      "76 day output [[0.6238183]]\n",
      "77 day input [0.63067216 0.62891912 0.62719285 0.62549281 0.62381828]\n",
      "77 day output [[0.622169]]\n",
      "78 day input [0.62891912 0.62719285 0.62549281 0.62381828 0.62216902]\n",
      "78 day output [[0.6205442]]\n",
      "79 day input [0.62719285 0.62549281 0.62381828 0.62216902 0.6205442 ]\n",
      "79 day output [[0.6189436]]\n",
      "80 day input [0.62549281 0.62381828 0.62216902 0.6205442  0.61894357]\n",
      "80 day output [[0.61736643]]\n",
      "81 day input [0.62381828 0.62216902 0.6205442  0.61894357 0.61736643]\n",
      "81 day output [[0.6158125]]\n",
      "82 day input [0.62216902 0.6205442  0.61894357 0.61736643 0.61581248]\n",
      "82 day output [[0.6142812]]\n",
      "83 day input [0.6205442  0.61894357 0.61736643 0.61581248 0.61428118]\n",
      "83 day output [[0.6127721]]\n",
      "84 day input [0.61894357 0.61736643 0.61581248 0.61428118 0.61277211]\n",
      "84 day output [[0.6112847]]\n",
      "85 day input [0.61736643 0.61581248 0.61428118 0.61277211 0.61128467]\n",
      "85 day output [[0.6098187]]\n",
      "86 day input [0.61581248 0.61428118 0.61277211 0.61128467 0.6098187 ]\n",
      "86 day output [[0.60837364]]\n",
      "87 day input [0.61428118 0.61277211 0.61128467 0.6098187  0.60837364]\n"
     ]
    },
    {
     "name": "stdout",
     "output_type": "stream",
     "text": [
      "87 day output [[0.6069491]]\n",
      "88 day input [0.61277211 0.61128467 0.6098187  0.60837364 0.60694909]\n",
      "88 day output [[0.60554475]]\n",
      "89 day input [0.61128467 0.6098187  0.60837364 0.60694909 0.60554475]\n",
      "89 day output [[0.6041601]]\n",
      "90 day input [0.6098187  0.60837364 0.60694909 0.60554475 0.60416007]\n",
      "90 day output [[0.60279477]]\n",
      "91 day input [0.60837364 0.60694909 0.60554475 0.60416007 0.60279477]\n",
      "91 day output [[0.6014486]]\n",
      "[[0.8886116743087769], [0.8937841653823853], [0.896999716758728], [0.8999483585357666], [0.8782095909118652], [0.8670432567596436], [0.8646724224090576], [0.8595806360244751], [0.8524264097213745], [0.8432909250259399], [0.8372046947479248], [0.8320008516311646], [0.8259600400924683], [0.8197066783905029], [0.8136857748031616], [0.8083286285400391], [0.8030402660369873], [0.7976818084716797], [0.7924584150314331], [0.787439227104187], [0.7826038599014282], [0.777843713760376], [0.7731726169586182], [0.7686299085617065], [0.7642112970352173], [0.7598980069160461], [0.7556749582290649], [0.7515484094619751], [0.7475206255912781], [0.7435849905014038], [0.7397355437278748], [0.7359691858291626], [0.7322853803634644], [0.7286816835403442], [0.7251542806625366], [0.7217006087303162], [0.7183187007904053], [0.7150064706802368], [0.7117618322372437], [0.7085822820663452], [0.7054661512374878], [0.7024114727973938], [0.6994163990020752], [0.6964794993400574], [0.6935986280441284], [0.690772533416748], [0.6879996061325073], [0.6852783560752869], [0.6826072931289673], [0.6799851655960083], [0.6774106025695801], [0.6748824715614319], [0.6723992824554443], [0.6699601411819458], [0.667563796043396], [0.665209174156189], [0.6628953218460083], [0.6606208682060242], [0.6583852767944336], [0.6561874151229858], [0.6540263295173645], [0.6519013047218323], [0.6498111486434937], [0.64775550365448], [0.6457332372665405], [0.643743634223938], [0.6417859792709351], [0.6398595571517944], [0.6379637122154236], [0.6360976696014404], [0.634260892868042], [0.6324525475502014], [0.6306721568107605], [0.6289191246032715], [0.6271928548812866], [0.6254928112030029], [0.6238182783126831], [0.622169017791748], [0.6205441951751709], [0.6189435720443726], [0.6173664331436157], [0.6158124804496765], [0.614281177520752], [0.6127721071243286], [0.6112846732139587], [0.609818696975708], [0.6083736419677734], [0.6069490909576416], [0.6055447459220886], [0.6041600704193115], [0.6027947664260864], [0.6014485955238342]]\n"
     ]
    }
   ],
   "source": [
    "from numpy import array\n",
    "\n",
    "today = date.today()\n",
    "d1 = date(2022, 3, 1)\n",
    "\n",
    "n_steps = 5\n",
    "\n",
    "for i in range((d1 - today).days + 1):\n",
    "    \n",
    "    if(len(temp_input) > 5):\n",
    "        x_input = np.array(temp_input[1:])\n",
    "        print(\"{} day input {}\".format(i, x_input))\n",
    "        x_input = x_input.reshape(1,-1)\n",
    "        x_input = x_input.reshape((1, n_steps, 1))\n",
    "        \n",
    "        yhat = model.predict(x_input, verbose=0)\n",
    "        print(\"{} day output {}\".format(i, yhat))\n",
    "        temp_input.extend(yhat[0].tolist())\n",
    "        temp_input = temp_input[1:]\n",
    "        \n",
    "        lst_output.extend(yhat.tolist())\n",
    "    else:\n",
    "        x_input = x_input.reshape((1, n_steps,1))\n",
    "        yhat = model.predict(x_input, verbose=0)\n",
    "        temp_input.extend(yhat[0].tolist())\n",
    "        lst_output.extend(yhat.tolist())\n",
    "    \n",
    "print(lst_output)\n"
   ]
  },
  {
   "cell_type": "code",
   "execution_count": 23,
   "id": "5156d1c7",
   "metadata": {
    "scrolled": true
   },
   "outputs": [
    {
     "name": "stdout",
     "output_type": "stream",
     "text": [
      "2021-11-29\n"
     ]
    },
    {
     "data": {
      "image/png": "[encoded data removed]",
      "text/plain": [
       "<Figure size 1152x576 with 1 Axes>"
      ]
     },
     "metadata": {
      "needs_background": "light"
     },
     "output_type": "display_data"
    }
   ],
   "source": [
    "dates = []\n",
    "for i in range(len(df.index)):\n",
    "    dates.append(df.index[i].date())\n",
    "\n",
    "base = datetime.today()\n",
    "futureDates =  [base + timedelta(days=x) for x in range(92)]\n",
    "\n",
    "plt_1 = plt.figure(figsize=(16, 8))\n",
    "plt.plot(dates, close.values, label='Known')\n",
    "plt.plot(futureDates, sc.inverse_transform(lst_output), label='Stacked LSTMs Prediction')\n",
    "plt.legend()\n",
    "plt.grid()"
   ]
  },
  {
   "cell_type": "code",
   "execution_count": 24,
   "id": "d87f02b6",
   "metadata": {
    "scrolled": true
   },
   "outputs": [
    {
     "data": {
      "text/plain": [
       "array([43.25121257])"
      ]
     },
     "execution_count": 24,
     "metadata": {},
     "output_type": "execute_result"
    }
   ],
   "source": [
    "sc.inverse_transform(lst_output)[-1]"
   ]
  },
  {
   "cell_type": "code",
   "execution_count": null,
   "id": "396870a1",
   "metadata": {},
   "outputs": [],
   "source": []
  }
 ],
 "metadata": {
  "kernelspec": {
   "display_name": "Python 3",
   "language": "python",
   "name": "python3"
  },
  "language_info": {
   "codemirror_mode": {
    "name": "ipython",
    "version": 3
   },
   "file_extension": ".py",
   "mimetype": "text/x-python",
   "name": "python",
   "nbconvert_exporter": "python",
   "pygments_lexer": "ipython3",
   "version": "3.9.8"
  }
 },
 "nbformat": 4,
 "nbformat_minor": 5
}
